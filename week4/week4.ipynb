{
 "cells": [
  {
   "cell_type": "code",
   "execution_count": 1,
   "source": [
    "import requests\n",
    "import json\n",
    "import re\n",
    "import pandas as pd"
   ],
   "outputs": [],
   "metadata": {}
  },
  {
   "cell_type": "markdown",
   "source": [
    "# Part A: Download the Zelda Wikipages of characters¶"
   ],
   "metadata": {}
  },
  {
   "cell_type": "code",
   "execution_count": 2,
   "source": [
    "baseurl = \"https://zelda.fandom.com/api.php?\"\n",
    "action = \"action=query\"\n",
    "title = \"titles=Characters in Breath of the Wild|Enemies in Breath of the Wild|Bosses in Breath of the Wild\"\n",
    "content = \"prop=revisions&rvprop=content&rvslots=*\"\n",
    "dataformat =\"format=json\"\n",
    "\n",
    "query = \"{}{}&{}&{}&{}\".format(baseurl, action, content, title, dataformat)\n",
    "print(query)"
   ],
   "outputs": [
    {
     "output_type": "stream",
     "name": "stdout",
     "text": [
      "https://zelda.fandom.com/api.php?action=query&prop=revisions&rvprop=content&rvslots=*&titles=Characters in Breath of the Wild|Enemies in Breath of the Wild|Bosses in Breath of the Wild&format=json\n"
     ]
    }
   ],
   "metadata": {}
  },
  {
   "cell_type": "code",
   "execution_count": 3,
   "source": [
    "response = requests.get(query)\n",
    "wikitext = response.json()\n",
    "with open('zelda-characters.json', 'w') as f:\n",
    "  json.dump(wikitext, f)"
   ],
   "outputs": [],
   "metadata": {}
  },
  {
   "cell_type": "code",
   "execution_count": 4,
   "source": [
    "with open('zelda-characters.json', 'r') as f:\n",
    "  data=f.read()\n",
    "\n",
    "wikitext = json.loads(data)"
   ],
   "outputs": [],
   "metadata": {}
  },
  {
   "cell_type": "code",
   "execution_count": 28,
   "source": [
    "df = pd.DataFrame()\n",
    "\n",
    "for key, value in wikitext[\"query\"][\"pages\"].items():\n",
    "  character_type = value[\"title\"].split(\" \")[0]\n",
    "  raw_text = value[\"revisions\"][0][\"slots\"][\"main\"][\"*\"]\n",
    "\n",
    "  if character_type == \"Enemies\": # Truncate to remove trap portion of enemies\n",
    "    raw_text = raw_text.split(\"Traps\")[0]\n",
    "\n",
    "  matches = re.findall(r'(?<!\\(){{\\w*\\|BotW\\|([^|]*)\\|link}}(?!\\))', raw_text) # Here we use negative lookbehind/lookahed to ensure we don't match the location links\n",
    "\n",
    "  for match in matches:\n",
    "    df = df.append({\"Type\": character_type, \"Name\": match}, ignore_index=True)\n",
    "\n",
    "\n"
   ],
   "outputs": [],
   "metadata": {}
  },
  {
   "cell_type": "code",
   "execution_count": 6,
   "source": [
    "df.replace(to_replace=[\"Characters\", \"Bosses\", \"Enemies\"], value=[\"Ally\", \"Boss\", \"Enemy\"], inplace=True)"
   ],
   "outputs": [],
   "metadata": {}
  },
  {
   "cell_type": "code",
   "execution_count": 7,
   "source": [
    "df.Type.value_counts()"
   ],
   "outputs": [
    {
     "output_type": "execute_result",
     "data": {
      "text/plain": [
       "Ally     573\n",
       "Enemy     72\n",
       "Boss      25\n",
       "Name: Type, dtype: int64"
      ]
     },
     "metadata": {},
     "execution_count": 7
    }
   ],
   "metadata": {}
  },
  {
   "cell_type": "code",
   "execution_count": 8,
   "source": [
    "df.drop_duplicates(inplace=True) # Here we drop trivial duplicates"
   ],
   "outputs": [],
   "metadata": {}
  },
  {
   "cell_type": "code",
   "execution_count": 9,
   "source": [
    "dupes = df.duplicated(subset=\"Name\")"
   ],
   "outputs": [],
   "metadata": {}
  },
  {
   "cell_type": "code",
   "execution_count": 10,
   "source": [
    "dupes = df.pivot_table(index=[\"Name\"], aggfunc='size')\n",
    "dupes[dupes > 1]"
   ],
   "outputs": [
    {
     "output_type": "execute_result",
     "data": {
      "text/plain": [
       "Name\n",
       "Calamity Ganon    2\n",
       "Master Kohga      2\n",
       "dtype: int64"
      ]
     },
     "metadata": {},
     "execution_count": 10
    }
   ],
   "metadata": {}
  },
  {
   "cell_type": "code",
   "execution_count": 11,
   "source": [
    "df2 = df[df[\"Name\"].isin(dupes[dupes > 1].index)]\n",
    "df2"
   ],
   "outputs": [
    {
     "output_type": "execute_result",
     "data": {
      "text/html": [
       "<div>\n",
       "<style scoped>\n",
       "    .dataframe tbody tr th:only-of-type {\n",
       "        vertical-align: middle;\n",
       "    }\n",
       "\n",
       "    .dataframe tbody tr th {\n",
       "        vertical-align: top;\n",
       "    }\n",
       "\n",
       "    .dataframe thead th {\n",
       "        text-align: right;\n",
       "    }\n",
       "</style>\n",
       "<table border=\"1\" class=\"dataframe\">\n",
       "  <thead>\n",
       "    <tr style=\"text-align: right;\">\n",
       "      <th></th>\n",
       "      <th>Type</th>\n",
       "      <th>Name</th>\n",
       "    </tr>\n",
       "  </thead>\n",
       "  <tbody>\n",
       "    <tr>\n",
       "      <th>21</th>\n",
       "      <td>Boss</td>\n",
       "      <td>Master Kohga</td>\n",
       "    </tr>\n",
       "    <tr>\n",
       "      <th>23</th>\n",
       "      <td>Boss</td>\n",
       "      <td>Calamity Ganon</td>\n",
       "    </tr>\n",
       "    <tr>\n",
       "      <th>140</th>\n",
       "      <td>Ally</td>\n",
       "      <td>Calamity Ganon</td>\n",
       "    </tr>\n",
       "    <tr>\n",
       "      <th>365</th>\n",
       "      <td>Ally</td>\n",
       "      <td>Master Kohga</td>\n",
       "    </tr>\n",
       "  </tbody>\n",
       "</table>\n",
       "</div>"
      ],
      "text/plain": [
       "     Type            Name\n",
       "21   Boss    Master Kohga\n",
       "23   Boss  Calamity Ganon\n",
       "140  Ally  Calamity Ganon\n",
       "365  Ally    Master Kohga"
      ]
     },
     "metadata": {},
     "execution_count": 11
    }
   ],
   "metadata": {}
  },
  {
   "cell_type": "markdown",
   "source": [
    "The non trivial duplicates are where the same character is listed as both and Ally, as well as a Boss. We choose the Boss classification to be carry more meaning and will therefore drop the duplicates listed as allies"
   ],
   "metadata": {}
  },
  {
   "cell_type": "code",
   "execution_count": 12,
   "source": [
    "i = df[((df.Type == 'Ally') & (df.Name == \"Calamity Ganon\"))].index\n",
    "\n",
    "i2 = df[((df.Type == 'Ally') & (df.Name == \"Master Kohga\"))].index\n",
    "i2"
   ],
   "outputs": [
    {
     "output_type": "execute_result",
     "data": {
      "text/plain": [
       "Int64Index([365], dtype='int64')"
      ]
     },
     "metadata": {},
     "execution_count": 12
    }
   ],
   "metadata": {}
  },
  {
   "cell_type": "code",
   "execution_count": 13,
   "source": [
    "df = df.drop(i)\n"
   ],
   "outputs": [],
   "metadata": {}
  },
  {
   "cell_type": "code",
   "execution_count": 14,
   "source": [
    "df = df.drop(i2)"
   ],
   "outputs": [],
   "metadata": {}
  },
  {
   "cell_type": "code",
   "execution_count": 25,
   "source": [
    "df.to_csv('zelda-characters.csv', index=False)"
   ],
   "outputs": [],
   "metadata": {}
  },
  {
   "cell_type": "markdown",
   "source": [
    "Save all character pages in txt files:"
   ],
   "metadata": {}
  },
  {
   "cell_type": "code",
   "execution_count": 33,
   "source": [
    "baseurl = \"https://zelda.fandom.com/api.php?\"\n",
    "action = \"action=query\"\n",
    "title = \"titles=Stone_Talus_(Junior)\"\n",
    "content = \"prop=revisions&rvprop=content&rvslots=*\"\n",
    "dataformat =\"format=json\"\n",
    "\n",
    "query = \"{}{}&{}&{}&{}\".format(baseurl, action, content, title, dataformat)\n",
    "print(query)"
   ],
   "outputs": [
    {
     "output_type": "stream",
     "name": "stdout",
     "text": [
      "https://zelda.fandom.com/api.php?action=query&prop=revisions&rvprop=content&rvslots=*&titles=Stone_Talus_(Junior)&format=json\n"
     ]
    }
   ],
   "metadata": {}
  },
  {
   "cell_type": "code",
   "execution_count": 26,
   "source": [
    "characters = pd.read_csv(\"zelda-characters.csv\")\n"
   ],
   "outputs": [
    {
     "output_type": "execute_result",
     "data": {
      "text/html": [
       "<div>\n",
       "<style scoped>\n",
       "    .dataframe tbody tr th:only-of-type {\n",
       "        vertical-align: middle;\n",
       "    }\n",
       "\n",
       "    .dataframe tbody tr th {\n",
       "        vertical-align: top;\n",
       "    }\n",
       "\n",
       "    .dataframe thead th {\n",
       "        text-align: right;\n",
       "    }\n",
       "</style>\n",
       "<table border=\"1\" class=\"dataframe\">\n",
       "  <thead>\n",
       "    <tr style=\"text-align: right;\">\n",
       "      <th></th>\n",
       "      <th>Type</th>\n",
       "      <th>Name</th>\n",
       "    </tr>\n",
       "  </thead>\n",
       "  <tbody>\n",
       "    <tr>\n",
       "      <th>0</th>\n",
       "      <td>Boss</td>\n",
       "      <td>Stone Talus</td>\n",
       "    </tr>\n",
       "    <tr>\n",
       "      <th>1</th>\n",
       "      <td>Boss</td>\n",
       "      <td>Stone Talus (Junior)</td>\n",
       "    </tr>\n",
       "    <tr>\n",
       "      <th>2</th>\n",
       "      <td>Boss</td>\n",
       "      <td>Stone Talus (Senior)</td>\n",
       "    </tr>\n",
       "    <tr>\n",
       "      <th>3</th>\n",
       "      <td>Boss</td>\n",
       "      <td>Stone Talus (Luminous)</td>\n",
       "    </tr>\n",
       "    <tr>\n",
       "      <th>4</th>\n",
       "      <td>Boss</td>\n",
       "      <td>Stone Talus (Rare)</td>\n",
       "    </tr>\n",
       "    <tr>\n",
       "      <th>...</th>\n",
       "      <td>...</td>\n",
       "      <td>...</td>\n",
       "    </tr>\n",
       "    <tr>\n",
       "      <th>652</th>\n",
       "      <td>Enemy</td>\n",
       "      <td>Treasure Octorok</td>\n",
       "    </tr>\n",
       "    <tr>\n",
       "      <th>653</th>\n",
       "      <td>Enemy</td>\n",
       "      <td>Water Octorok</td>\n",
       "    </tr>\n",
       "    <tr>\n",
       "      <th>654</th>\n",
       "      <td>Enemy</td>\n",
       "      <td>White-Maned Lynel</td>\n",
       "    </tr>\n",
       "    <tr>\n",
       "      <th>655</th>\n",
       "      <td>Enemy</td>\n",
       "      <td>Yiga Blademaster</td>\n",
       "    </tr>\n",
       "    <tr>\n",
       "      <th>656</th>\n",
       "      <td>Enemy</td>\n",
       "      <td>Yiga Footsoldier</td>\n",
       "    </tr>\n",
       "  </tbody>\n",
       "</table>\n",
       "<p>657 rows × 2 columns</p>\n",
       "</div>"
      ],
      "text/plain": [
       "      Type                    Name\n",
       "0     Boss             Stone Talus\n",
       "1     Boss    Stone Talus (Junior)\n",
       "2     Boss    Stone Talus (Senior)\n",
       "3     Boss  Stone Talus (Luminous)\n",
       "4     Boss      Stone Talus (Rare)\n",
       "..     ...                     ...\n",
       "652  Enemy        Treasure Octorok\n",
       "653  Enemy           Water Octorok\n",
       "654  Enemy       White-Maned Lynel\n",
       "655  Enemy        Yiga Blademaster\n",
       "656  Enemy        Yiga Footsoldier\n",
       "\n",
       "[657 rows x 2 columns]"
      ]
     },
     "metadata": {},
     "execution_count": 26
    }
   ],
   "metadata": {}
  },
  {
   "cell_type": "code",
   "execution_count": 52,
   "source": [
    "aliases = {}\n",
    "\n",
    "for name in characters.Name:\n",
    "  formatted_name = name.replace(\" \", \"_\")\n",
    "  title = \"titles=\" + formatted_name\n",
    "  query = \"{}{}&{}&{}&{}\".format(baseurl, action, content, title, dataformat)\n",
    "  response = requests.get(query)\n",
    "  wikitext = response.json()\n",
    "  redirects = re.search(r\"#REDIRECT\\s\\[\\[(.*)\\]\\]\", str(wikitext))\n",
    "  if redirects:\n",
    "    # Update dictionary containing aliases (redirects)\n",
    "    aliases[name] = redirects.group(1)\n",
    "\n",
    "    # Fetch correct page for redirected character\n",
    "    formatted_name = redirects.group(1).replace(\" \", \"_\")\n",
    "    title = \"titles=\" + formatted_name\n",
    "    query = \"{}{}&{}&{}&{}\".format(baseurl, action, content, title, dataformat)\n",
    "    response = requests.get(query)\n",
    "    wikitext = response.json()\n",
    "    \n",
    "  with open(f'characters/{formatted_name}.json', 'w') as f:\n",
    "    json.dump(wikitext, f)"
   ],
   "outputs": [
    {
     "output_type": "stream",
     "name": "stdout",
     "text": [
      "Cherry\n",
      "Ancient Oven\n"
     ]
    }
   ],
   "metadata": {}
  },
  {
   "cell_type": "markdown",
   "source": [
    "# Part B: Building the network"
   ],
   "metadata": {}
  },
  {
   "cell_type": "markdown",
   "source": [],
   "metadata": {}
  }
 ],
 "metadata": {
  "orig_nbformat": 4,
  "language_info": {
   "name": "python",
   "version": "3.9.6",
   "mimetype": "text/x-python",
   "codemirror_mode": {
    "name": "ipython",
    "version": 3
   },
   "pygments_lexer": "ipython3",
   "nbconvert_exporter": "python",
   "file_extension": ".py"
  },
  "kernelspec": {
   "name": "python3",
   "display_name": "Python 3.9.6 64-bit ('socialgraphs': pyenv)"
  },
  "interpreter": {
   "hash": "8a493efaf8be9d8a8b82e3bf20230823a96b4e0a4134ba2ad443a50532047fcd"
  }
 },
 "nbformat": 4,
 "nbformat_minor": 2
}