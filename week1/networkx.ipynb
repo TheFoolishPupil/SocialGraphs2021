{
 "cells": [
  {
   "cell_type": "code",
   "execution_count": 1,
   "id": "4a0ed767-8afc-420b-aa0b-88d9c4a4d786",
   "metadata": {},
   "outputs": [],
   "source": [
    "import networkx as nx\n",
    "import matplotlib.pyplot as plt\n",
    "import scipy"
   ]
  },
  {
   "cell_type": "code",
   "execution_count": 2,
   "id": "cbce8841-61eb-47d2-a3c7-dab1f8aa3241",
   "metadata": {},
   "outputs": [],
   "source": [
    "G = nx.Graph()\n",
    "G.add_node(1)\n",
    "G.add_nodes_from([2,3])\n",
    "G.add_nodes_from([\n",
    "    (4, {\"color\": \"red\"}),\n",
    "    (5, {\"color\": \"green\"}),\n",
    "])"
   ]
  },
  {
   "cell_type": "code",
   "execution_count": 3,
   "id": "d864843d-2df8-4925-9050-50ff4c91f275",
   "metadata": {},
   "outputs": [],
   "source": [
    "H = nx.path_graph(10)\n",
    "G.add_nodes_from(H)\n",
    "G.add_node(H)"
   ]
  },
  {
   "cell_type": "markdown",
   "id": "cb0e700f-966f-4d53-8066-70666e3cabd8",
   "metadata": {},
   "source": [
    "G can be grown by one edge at a time with the following"
   ]
  },
  {
   "cell_type": "code",
   "execution_count": 4,
   "id": "81b9f5af-5d52-4b7a-b8e3-0ecb32c4bdb8",
   "metadata": {},
   "outputs": [],
   "source": [
    "G.add_edge(1, 2)\n",
    "e = (2, 3)\n",
    "G.add_edge(*e)"
   ]
  },
  {
   "cell_type": "code",
   "execution_count": 5,
   "id": "00cd90ae-afc4-45ee-9202-bd05bb8fefe7",
   "metadata": {},
   "outputs": [],
   "source": [
    "G.add_edges_from([(1, 2), (1, 3)])"
   ]
  },
  {
   "cell_type": "code",
   "execution_count": 6,
   "id": "9fdb91fc-3ffa-4ad9-b610-ca80dc8f0d32",
   "metadata": {},
   "outputs": [],
   "source": [
    "G.clear()"
   ]
  },
  {
   "cell_type": "code",
   "execution_count": 7,
   "id": "82154139-a90b-426f-98ce-930519c94bcf",
   "metadata": {},
   "outputs": [],
   "source": [
    "G.add_edges_from([(1, 2), (1, 3)])\n",
    "G.add_node(1)\n",
    "G.add_edge(1, 2)\n",
    "G.add_node(\"spam\")        # adds node \"spam\"\n",
    "G.add_nodes_from(\"spam\")  # adds 4 nodes: 's', 'p', 'a', 'm'\n",
    "G.add_edge(3, 'm')"
   ]
  },
  {
   "cell_type": "markdown",
   "id": "971f17cd-1bdc-4b58-8e21-3dd98d69a3c7",
   "metadata": {},
   "source": [
    "Number of nodes/edges:\n"
   ]
  },
  {
   "cell_type": "code",
   "execution_count": 8,
   "id": "3a69c47b-4ac7-4cc6-a95e-a2bdb9ec8a0a",
   "metadata": {},
   "outputs": [
    {
     "data": {
      "text/plain": [
       "3"
      ]
     },
     "execution_count": 8,
     "metadata": {},
     "output_type": "execute_result"
    }
   ],
   "source": [
    "G.number_of_nodes()\n",
    "G.number_of_edges()"
   ]
  },
  {
   "cell_type": "code",
   "execution_count": 9,
   "id": "c0c18fe9-5b56-4544-8b5e-2d7430868508",
   "metadata": {},
   "outputs": [
    {
     "data": {
      "image/png": "[encoded data removed]",
      "text/plain": [
       "<Figure size 432x288 with 1 Axes>"
      ]
     },
     "metadata": {},
     "output_type": "display_data"
    }
   ],
   "source": [
    "nx.draw(G, with_labels=True, font_weight='bold')"
   ]
  },
  {
   "cell_type": "markdown",
   "id": "fb992925-df2a-4b9d-b656-43029305a1c7",
   "metadata": {},
   "source": [
    "## DiGraph"
   ]
  },
  {
   "cell_type": "code",
   "execution_count": 10,
   "id": "1133ff49-f866-4d22-94aa-65c87ce794b1",
   "metadata": {},
   "outputs": [
    {
     "name": "stdout",
     "output_type": "stream",
     "text": [
      "[1]\n"
     ]
    }
   ],
   "source": [
    "DG = nx.DiGraph()\n",
    "DG.add_edge(2, 1)   # adds the nodes in order 2, 1\n",
    "DG.add_edge(1, 3)\n",
    "DG.add_edge(2, 4)\n",
    "DG.add_edge(1, 2)\n",
    "assert list(DG.successors(2)) == [1, 4]\n",
    "assert list(DG.edges) == [(2, 1), (2, 4), (1, 3), (1, 2)]\n",
    "print(list(DG.predecessors(2)))"
   ]
  },
  {
   "cell_type": "code",
   "execution_count": 11,
   "id": "6c998992-79fc-4062-bf1f-07be0ac05913",
   "metadata": {},
   "outputs": [
    {
     "data": {
      "image/png": "[encoded data removed]",
      "text/plain": [
       "<Figure size 432x288 with 1 Axes>"
      ]
     },
     "metadata": {},
     "output_type": "display_data"
    }
   ],
   "source": [
    "nx.draw(DG, with_labels=True, font_weight='bold')"
   ]
  },
  {
   "cell_type": "markdown",
   "id": "57a24152-ad0c-4ed8-90bf-761b9d022b3a",
   "metadata": {},
   "source": [
    "# Examining elements of a graph"
   ]
  },
  {
   "cell_type": "code",
   "execution_count": 12,
   "id": "df30f917-08f7-45c3-b8d5-0ba4cabfcbe6",
   "metadata": {},
   "outputs": [
    {
     "data": {
      "text/plain": [
       "2"
      ]
     },
     "execution_count": 12,
     "metadata": {},
     "output_type": "execute_result"
    }
   ],
   "source": [
    "list(G.nodes)\n",
    "list(G.edges)\n",
    "list(G.adj[1])  # or list(G.neighbors(1))\n",
    "G.degree[1]  # the number of edges incident to 1"
   ]
  },
  {
   "cell_type": "code",
   "execution_count": 13,
   "id": "6987c413-f65e-4932-83ce-fa81d12b605a",
   "metadata": {},
   "outputs": [
    {
     "data": {
      "text/plain": [
       "EdgeDataView([(2, 1), ('m', 3)])"
      ]
     },
     "execution_count": 13,
     "metadata": {},
     "output_type": "execute_result"
    }
   ],
   "source": [
    "G.edges([2, 'm'])"
   ]
  },
  {
   "cell_type": "code",
   "execution_count": 14,
   "id": "95f505e7-5560-493e-a172-7dc3ed5783c2",
   "metadata": {},
   "outputs": [
    {
     "data": {
      "text/plain": [
       "DegreeView({2: 1, 3: 2})"
      ]
     },
     "execution_count": 14,
     "metadata": {},
     "output_type": "execute_result"
    }
   ],
   "source": [
    "G.degree([2, 3])"
   ]
  },
  {
   "cell_type": "markdown",
   "id": "03a56033-388d-446c-903b-170ba82598ef",
   "metadata": {},
   "source": [
    "# Removing elements from a graph\n",
    "This works similar to adding"
   ]
  },
  {
   "cell_type": "code",
   "execution_count": 15,
   "id": "b08ab116-7831-4908-804c-e4ebbad48298",
   "metadata": {},
   "outputs": [],
   "source": [
    "G.remove_node(2)\n",
    "G.remove_nodes_from(\"spam\")\n",
    "G.remove_edge(1, 3)"
   ]
  },
  {
   "cell_type": "markdown",
   "id": "f67ce75a-9d9d-440a-94ce-ed83195e311f",
   "metadata": {},
   "source": [
    "# Graph constuctors\n",
    "Graph constructors do not have to built up incrementally. The data. taht specifies the graph can be passed to a constructor of a given graph class."
   ]
  },
  {
   "cell_type": "code",
   "execution_count": 16,
   "id": "03f9ea86-eb3e-43b7-b3e7-45c9f418ac0c",
   "metadata": {},
   "outputs": [],
   "source": [
    "G.add_edge(1, 2)\n",
    "H = nx.DiGraph(G)   # create a DiGraph using the connections from G\n",
    "list(H.edges())\n",
    "\n",
    "edgelist = [(0, 1), (1, 2), (2, 3)]\n",
    "H = nx.Graph(edgelist)"
   ]
  },
  {
   "cell_type": "code",
   "execution_count": 17,
   "id": "e8567bba-01a1-4ae0-aea9-3f2a2efc65d2",
   "metadata": {},
   "outputs": [
    {
     "data": {
      "image/png": "[encoded data removed]",
      "text/plain": [
       "<Figure size 432x288 with 1 Axes>"
      ]
     },
     "metadata": {},
     "output_type": "display_data"
    }
   ],
   "source": [
    "nx.draw(G, with_labels=True, font_weight='bold')"
   ]
  },
  {
   "cell_type": "markdown",
   "id": "ddc1d0b2-dcdc-4c67-8b55-f43cd989360b",
   "metadata": {},
   "source": [
    "# Accessing edges and neighbors\n"
   ]
  },
  {
   "cell_type": "code",
   "execution_count": 18,
   "id": "9c8587d4-fbad-465a-802e-60285bf0ad28",
   "metadata": {},
   "outputs": [
    {
     "data": {
      "text/plain": [
       "{'color': 'yellow'}"
      ]
     },
     "execution_count": 18,
     "metadata": {},
     "output_type": "execute_result"
    }
   ],
   "source": [
    "G = nx.Graph([(1, 2, {\"color\": \"yellow\"})])\n",
    "G[1]  # same as G.adj[1]\n",
    "G[1][2] # same as G.edges[1,2]"
   ]
  },
  {
   "cell_type": "code",
   "execution_count": 19,
   "id": "99af3ca5-1c69-4930-bd2c-38989de2e724",
   "metadata": {},
   "outputs": [
    {
     "data": {
      "text/plain": [
       "{'color': 'red'}"
      ]
     },
     "execution_count": 19,
     "metadata": {},
     "output_type": "execute_result"
    }
   ],
   "source": [
    "G.add_edge(1, 3)\n",
    "G[1][3]['color'] = \"blue\"\n",
    "G.edges[1, 2]['color'] = \"red\"\n",
    "G.edges[1, 3]\n",
    "G[1][2]\n"
   ]
  },
  {
   "cell_type": "code",
   "execution_count": 20,
   "id": "c4cbc8a7-0260-4202-9cff-ea110c1a2d6e",
   "metadata": {},
   "outputs": [
    {
     "name": "stdout",
     "output_type": "stream",
     "text": [
      "(1, 2, 0.125)\n",
      "(2, 1, 0.125)\n",
      "(3, 4, 0.375)\n",
      "(4, 3, 0.375)\n"
     ]
    }
   ],
   "source": [
    "FG = nx.Graph()\n",
    "FG.add_weighted_edges_from([(1, 2, 0.125), (1, 3, 0.75), (2, 4, 1.2), (3, 4, 0.375)])\n",
    "for n, nbrs in FG.adj.items():\n",
    "   for nbr, eattr in nbrs.items():\n",
    "       wt = eattr['weight']\n",
    "       if wt < 0.5: print(f\"({n}, {nbr}, {wt:.3})\")\n"
   ]
  },
  {
   "cell_type": "code",
   "execution_count": 21,
   "id": "72e192cf-eb36-4799-a94e-d03cb55020a8",
   "metadata": {},
   "outputs": [
    {
     "name": "stdout",
     "output_type": "stream",
     "text": [
      "(1, 2, 0.125)\n",
      "(3, 4, 0.375)\n"
     ]
    }
   ],
   "source": [
    "for (u, v, wt) in FG.edges.data('weight'):\n",
    "    if wt < 0.5:\n",
    "        print(f\"({u}, {v}, {wt:.3})\")\n"
   ]
  },
  {
   "cell_type": "markdown",
   "id": "20f0ae0f-32b7-4483-a064-4c5ce22028d6",
   "metadata": {},
   "source": [
    "# Adding attributes to graphs, nodes, and edges"
   ]
  },
  {
   "cell_type": "markdown",
   "id": "db437a69-c283-4140-bf07-1491bcad7b65",
   "metadata": {},
   "source": [
    "## Creating graph attributes"
   ]
  },
  {
   "cell_type": "code",
   "execution_count": 22,
   "id": "377017be-2c24-4488-bd42-4c96b861e02e",
   "metadata": {},
   "outputs": [
    {
     "data": {
      "text/plain": [
       "{'day': 'Friday'}"
      ]
     },
     "execution_count": 22,
     "metadata": {},
     "output_type": "execute_result"
    }
   ],
   "source": [
    "G = nx.Graph(day=\"Friday\")\n",
    "G.graph"
   ]
  },
  {
   "cell_type": "markdown",
   "id": "72c2e2e4-ed5e-48a9-aba9-6c7e7d72233c",
   "metadata": {},
   "source": [
    "### Modifying graph attrubute"
   ]
  },
  {
   "cell_type": "code",
   "execution_count": 23,
   "id": "12f4396e-6fc5-480a-8042-599d7754260c",
   "metadata": {},
   "outputs": [
    {
     "data": {
      "text/plain": [
       "{'day': 'Monday'}"
      ]
     },
     "execution_count": 23,
     "metadata": {},
     "output_type": "execute_result"
    }
   ],
   "source": [
    "G.graph['day'] = \"Monday\"\n",
    "G.graph"
   ]
  },
  {
   "cell_type": "markdown",
   "id": "008b23d5-95e3-4add-80d7-f49cf71a3e60",
   "metadata": {},
   "source": [
    "## Node attributes"
   ]
  },
  {
   "cell_type": "code",
   "execution_count": 24,
   "id": "9ee91876-34ec-4de0-b6c1-87946244c013",
   "metadata": {},
   "outputs": [
    {
     "data": {
      "text/plain": [
       "NodeDataView({1: {'time': '5pm', 'room': 714}, 3: {'time': '2pm'}})"
      ]
     },
     "execution_count": 24,
     "metadata": {},
     "output_type": "execute_result"
    }
   ],
   "source": [
    "G.add_node(1, time='5pm')\n",
    "G.add_nodes_from([3], time='2pm')\n",
    "G.nodes[1]\n",
    "\n",
    "G.nodes[1]['room'] = 714\n",
    "G.nodes.data()"
   ]
  },
  {
   "cell_type": "markdown",
   "id": "43bc4687-8fd8-46b5-b681-f4468e827846",
   "metadata": {},
   "source": [
    "## Edge Attributes"
   ]
  },
  {
   "cell_type": "code",
   "execution_count": 25,
   "id": "cbcc2ca4-c4ca-443d-ab47-0bfe97b89cfa",
   "metadata": {},
   "outputs": [],
   "source": [
    "G.add_edge(1, 2, weight=4.7 )\n",
    "G.add_edges_from([(3, 4), (4, 5)], color='red')\n",
    "G.add_edges_from([(1, 2, {'color': 'blue'}), (2, 3, {'weight': 8})])\n",
    "G[1][2]['weight'] = 4.7\n",
    "G.edges[3, 4]['weight'] = 4.2"
   ]
  },
  {
   "cell_type": "markdown",
   "id": "506c530c-f13c-4475-b12a-8bdd6fa9c65f",
   "metadata": {},
   "source": [
    "# Directed Graph"
   ]
  },
  {
   "cell_type": "code",
   "execution_count": 26,
   "id": "3a9a1ee8-5b20-4de5-b358-259309e21f9b",
   "metadata": {},
   "outputs": [
    {
     "data": {
      "text/plain": [
       "1.25"
      ]
     },
     "execution_count": 26,
     "metadata": {},
     "output_type": "execute_result"
    }
   ],
   "source": [
    "DG = nx.DiGraph()\n",
    "DG.add_weighted_edges_from([(1, 2, 0.5), (3, 1, 0.75)])\n",
    "DG.out_degree(1, weight='weight')\n",
    "DG.degree(1, weight='weight')\n",
    "# list(DG.successors(1))\n",
    "# list(DG.neighbors(1))"
   ]
  },
  {
   "cell_type": "code",
   "execution_count": 27,
   "id": "ddaea28b-10fa-4177-b88c-9bba6aae58e2",
   "metadata": {},
   "outputs": [],
   "source": [
    "H = nx.Graph(G) # Created an undirected graph from a directed graph"
   ]
  },
  {
   "cell_type": "markdown",
   "id": "53460144-03c9-456b-b1e9-b1d6ba38d481",
   "metadata": {},
   "source": [
    "# Multigraphs\n",
    "NetworkX provides classes for graphs which allow multiple edges between any pair of nodes. The MultiGraph and MultiDiGraph classes allow you to add the same edge twice, possibly with different edge data. This can be powerful for some applications, but many algorithms are not well defined on such graphs. Where results are well defined, e.g., MultiGraph.degree() we provide the function. Otherwise you should convert to a standard graph in a way that makes the measurement well defined."
   ]
  },
  {
   "cell_type": "code",
   "execution_count": 28,
   "id": "6b65fbc0-6d6a-41b0-afd9-daaceb716f63",
   "metadata": {},
   "outputs": [
    {
     "data": {
      "text/plain": [
       "[1, 2, 3]"
      ]
     },
     "execution_count": 28,
     "metadata": {},
     "output_type": "execute_result"
    }
   ],
   "source": [
    "MG = nx.MultiGraph()\n",
    "MG.add_weighted_edges_from([(1, 2, 0.5), (1, 2, 0.75), (2, 3, 0.5)])\n",
    "dict(MG.degree(weight='weight'))\n",
    "\n",
    "GG = nx.Graph()\n",
    "for n, nbrs in MG.adjacency():\n",
    "   for nbr, edict in nbrs.items():\n",
    "       minvalue = min([d['weight'] for d in edict.values()])\n",
    "       GG.add_edge(n, nbr, weight = minvalue)\n",
    "\n",
    "nx.shortest_path(GG, 1, 3)"
   ]
  }
 ],
 "metadata": {
  "kernelspec": {
   "display_name": "Python 3 (ipykernel)",
   "language": "python",
   "name": "python3"
  },
  "language_info": {
   "codemirror_mode": {
    "name": "ipython",
    "version": 3
   },
   "file_extension": ".py",
   "mimetype": "text/x-python",
   "name": "python",
   "nbconvert_exporter": "python",
   "pygments_lexer": "ipython3",
   "version": "3.9.6"
  }
 },
 "nbformat": 4,
 "nbformat_minor": 5
}
