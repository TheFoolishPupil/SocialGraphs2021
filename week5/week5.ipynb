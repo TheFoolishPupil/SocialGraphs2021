{
 "cells": [
  {
   "cell_type": "markdown",
   "source": [
    "# Week 5\n",
    "\n",
    "## Part A: Let's Visualize!"
   ],
   "metadata": {}
  },
  {
   "cell_type": "code",
   "execution_count": 6,
   "source": [
    "import pickle\n",
    "\n",
    "with open('../week4/character_graph', 'rb') as f:\n",
    "  G = pickle.load(f)"
   ],
   "outputs": [],
   "metadata": {}
  },
  {
   "cell_type": "code",
   "execution_count": null,
   "source": [
    "import pandas as pd"
   ],
   "outputs": [],
   "metadata": {}
  },
  {
   "cell_type": "code",
   "execution_count": 9,
   "source": [
    "print(G.number_of_nodes())\n",
    "print(G.number_of_edges())"
   ],
   "outputs": [
    {
     "output_type": "stream",
     "name": "stdout",
     "text": [
      "402\n",
      "895\n"
     ]
    }
   ],
   "metadata": {}
  },
  {
   "cell_type": "code",
   "execution_count": null,
   "source": [
    "c1 = pd.read_csv(\"../week\")"
   ],
   "outputs": [],
   "metadata": {}
  },
  {
   "cell_type": "markdown",
   "source": [],
   "metadata": {}
  }
 ],
 "metadata": {
  "orig_nbformat": 4,
  "language_info": {
   "name": "python",
   "version": "3.9.6",
   "mimetype": "text/x-python",
   "codemirror_mode": {
    "name": "ipython",
    "version": 3
   },
   "pygments_lexer": "ipython3",
   "nbconvert_exporter": "python",
   "file_extension": ".py"
  },
  "kernelspec": {
   "name": "python3",
   "display_name": "Python 3.9.6 64-bit ('socialgraphs': pyenv)"
  },
  "interpreter": {
   "hash": "42039181d002c681acbd157f8c873ab8548c34aea0e4c2b7056e5bd23e683485"
  }
 },
 "nbformat": 4,
 "nbformat_minor": 2
}